{
 "cells": [
  {
   "cell_type": "code",
   "execution_count": 1,
   "id": "2d026e11-ded6-43d6-9ce3-3c1e47b8be38",
   "metadata": {},
   "outputs": [],
   "source": [
    "import pandas as pd\n",
    "import numpy as np\n",
    "import time\n",
    "import datetime as dt\n",
    "from datetime import datetime\n",
    "from datetime import date, timedelta\n",
    "import json"
   ]
  },
  {
   "cell_type": "code",
   "execution_count": 2,
   "id": "812db59e-93fd-407f-a0e5-0543333eba57",
   "metadata": {},
   "outputs": [],
   "source": [
    "df = pd.concat ([pd.read_json(f,dtype = str) for f in\n",
    "                 [\n",
    "                     '2003_Tracking.json',\n",
    "                    # '2003_Tracking001.json',                    \n",
    "                     \n",
    "                 ]], ignore_index = True)"
   ]
  },
  {
   "cell_type": "markdown",
   "id": "d580f9d9-58d9-44e8-af62-26763cda979d",
   "metadata": {
    "jp-MarkdownHeadingCollapsed": true,
    "tags": []
   },
   "source": [
    "### Olahan"
   ]
  },
  {
   "cell_type": "code",
   "execution_count": 3,
   "id": "98806225-9932-43b5-a643-b5bb7301093a",
   "metadata": {},
   "outputs": [
    {
     "name": "stdout",
     "output_type": "stream",
     "text": [
      "<class 'pandas.core.frame.DataFrame'>\n",
      "RangeIndex: 4222 entries, 0 to 4221\n",
      "Data columns (total 2 columns):\n",
      " #   Column     Non-Null Count  Dtype \n",
      "---  ------     --------------  ----- \n",
      " 0   summary    4222 non-null   object\n",
      " 1   histories  4222 non-null   object\n",
      "dtypes: object(2)\n",
      "memory usage: 66.1+ KB\n"
     ]
    }
   ],
   "source": [
    "df.info()"
   ]
  },
  {
   "cell_type": "code",
   "execution_count": 4,
   "id": "ec983c36-efcc-4d60-8131-7df39cc3d26e",
   "metadata": {},
   "outputs": [],
   "source": [
    "summer = df.summary\n",
    "hist = df.histories\n",
    "hist_gabung = []\n",
    "summer_gabung = []\n",
    "eror = '________________________'\n",
    "\n",
    "\n",
    "for j in range(len(summer)):\n",
    "    sumer0 = summer.iloc[j]\n",
    "    sumer0 = sumer0.replace('\"', '')\n",
    "    sumer0 = sumer0.replace(\"\\\\\", \"\")     \n",
    "    sumer0 = sumer0.replace(\"'\", '\"')\n",
    "    sumer0 = json.loads(sumer0)\n",
    "    sumer0 = pd.DataFrame([sumer0], columns = sumer0.keys())\n",
    "    \n",
    "    sumer0 = sumer0[['waybill_number','receiver_city','receiver_district','receiver_province']]\n",
    "    \n",
    "    summer_gabung.append(sumer0)\n",
    "\n",
    "for k in range(len(hist)):\n",
    "    hist0 = hist[k]\n",
    "    hist0 = hist0.replace(\"\\\\\", \"\")\n",
    "    hist0 = hist0.replace('\"',\"\")    \n",
    "    hist0 = hist0.replace(\"'\",'\"')\n",
    "    # hist0 = hist0.replace(\"'\",'\"')\n",
    "    # hist0 = pd.read_json(hist0)\n",
    "    # summer = pd.concat([summer_gabung[k]] * len(hist0), ignore_index=True)\n",
    "    # hist0 = pd.concat([hist0, summer], axis = 1)\n",
    "\n",
    "    # hist_gabung.append(hist0)\n",
    "    try:\n",
    "        hist0 = pd.read_json(hist0, orient='records')\n",
    "        summer = pd.concat([summer_gabung[k]] * len(hist0), ignore_index=True)\n",
    "        hist0 = pd.concat([hist0, summer], axis=1)\n",
    "        hist_gabung.append(hist0)\n",
    "        \n",
    "    except ValueError:\n",
    "        eror = summer_gabung[k]['waybill_number'].values[0]\n",
    "        # eror_all.append(eror)\n",
    "        \n",
    "df = pd.concat(hist_gabung, ignore_index=True)    \n"
   ]
  },
  {
   "cell_type": "code",
   "execution_count": 5,
   "id": "452a96cd-a7c9-4558-95a9-276927c065ed",
   "metadata": {},
   "outputs": [],
   "source": [
    "df = df.rename(columns = \n",
    "                   {'scan_time':'Waktu Operasi',\n",
    "                    'upload_time':'Waktu Pencatatan',\n",
    "                    'operation_branch_name':'Diinput Cabang',\n",
    "                    'operation_user_name':'Discan oleh',\n",
    "                    'photo_link':'Photo Link',\n",
    "                    'problem_reason':'Problem Reason',\n",
    "                    'bag_number':'No. Bagging',\n",
    "                    'vehicle_number':'No. Vehicle Tag',\n",
    "                    'previous_location':'Lokasi Sebelumnya',\n",
    "                    'next_location':'Lokasi Selanjutnya',\n",
    "                    'waybill_number':'No. Waybill',\n",
    "                    'order_number':'No. Order',\n",
    "                    'origin_branch_name':'Origin Branch',\n",
    "                    'calculated_weight':'Berat',\n",
    "                    'total_shipping_fee':'Biaya Total Pengiriman',\n",
    "                    'payment_type':'Tipe Pembayaran',\n",
    "                    'service_type':'Tipe Servis',\n",
    "                    'receiver_name':'Penerima',\n",
    "                    'receiver_contact':'No.Hp penerima',\n",
    "                    'receiver_province':'Provinsi Tujuan Waybill',\n",
    "                    'receiver_city':'Kota Incoming',\n",
    "                    'receiver_district':'Scan Tujuan',\n",
    "                    'shipper_name':'Pengirim',\n",
    "                    'shipper_contact':'No.HP Pengirim',\n",
    "\n",
    "\n",
    "                     })\n",
    "\n"
   ]
  },
  {
   "cell_type": "code",
   "execution_count": 6,
   "id": "b76e0088-5e0f-46a8-b652-62f95d7b6105",
   "metadata": {},
   "outputs": [],
   "source": [
    "ts = pd.read_csv('D:/AL/DataOlahanPython/DataBase_Python/DataBantu/DataScan.csv')"
   ]
  },
  {
   "cell_type": "code",
   "execution_count": 7,
   "id": "a3d83177-4864-43d6-8273-058bec9b8d85",
   "metadata": {},
   "outputs": [],
   "source": [
    "df = pd.merge(df, ts, on = 'operation_type', how = 'left')"
   ]
  },
  {
   "cell_type": "code",
   "execution_count": 8,
   "id": "18570844-4f9c-4874-99f1-339c6571bc03",
   "metadata": {},
   "outputs": [],
   "source": [
    "tmp = pd.read_csv('./SSR/ssrTemplateTrack.csv')"
   ]
  },
  {
   "cell_type": "code",
   "execution_count": 9,
   "id": "308e0b3e-5bc0-49b5-9e2e-e2db23e43eb5",
   "metadata": {},
   "outputs": [],
   "source": [
    "df = pd.concat([tmp,df],ignore_index = True)\n",
    "df = df.iloc[:,:14]\n",
    "df = df.sort_values('Waktu Pencatatan', ascending = False).drop_duplicates(subset = ['No. Waybill','Tipe Scan','Diinput Cabang','Waktu Pencatatan'])"
   ]
  },
  {
   "cell_type": "code",
   "execution_count": 10,
   "id": "6701333b-9c08-4e6a-9a16-0ba5a664b23c",
   "metadata": {},
   "outputs": [
    {
     "name": "stdout",
     "output_type": "stream",
     "text": [
      "<class 'pandas.core.frame.DataFrame'>\n",
      "Int64Index: 119416 entries, 12369 to 104474\n",
      "Data columns (total 14 columns):\n",
      " #   Column                   Non-Null Count   Dtype         \n",
      "---  ------                   --------------   -----         \n",
      " 0   No. Waybill              119416 non-null  object        \n",
      " 1   No. Bagging              72939 non-null   object        \n",
      " 2   No. Vehicle Tag          59696 non-null   object        \n",
      " 3   Kota Incoming            119416 non-null  object        \n",
      " 4   Tipe Scan                119416 non-null  object        \n",
      " 5   Lokasi Sebelumnya        13703 non-null   object        \n",
      " 6   Lokasi Selanjutnya       16253 non-null   object        \n",
      " 7   Scan Tujuan              119416 non-null  object        \n",
      " 8   Discan oleh              119416 non-null  object        \n",
      " 9   Diinput Cabang           119416 non-null  object        \n",
      " 10  Waktu Pencatatan         119416 non-null  datetime64[ns]\n",
      " 11  Provinsi Tujuan Waybill  119416 non-null  object        \n",
      " 12  Photo Link               9826 non-null    object        \n",
      " 13  Problem Reason           10907 non-null   object        \n",
      "dtypes: datetime64[ns](1), object(13)\n",
      "memory usage: 13.7+ MB\n"
     ]
    }
   ],
   "source": [
    "df.info()"
   ]
  },
  {
   "cell_type": "code",
   "execution_count": 11,
   "id": "84771f22-f0eb-4b80-9cbc-2b3285476769",
   "metadata": {},
   "outputs": [
    {
     "name": "stdout",
     "output_type": "stream",
     "text": [
      "<class 'pandas.core.frame.DataFrame'>\n",
      "RangeIndex: 71 entries, 0 to 70\n",
      "Data columns (total 4 columns):\n",
      " #   Column          Non-Null Count  Dtype \n",
      "---  ------          --------------  ----- \n",
      " 0   Diinput Cabang  71 non-null     object\n",
      " 1   AREA            71 non-null     object\n",
      " 2   District Area   71 non-null     object\n",
      " 3   Kategori TH     71 non-null     object\n",
      "dtypes: object(4)\n",
      "memory usage: 2.3+ KB\n"
     ]
    }
   ],
   "source": [
    "mitra = pd.read_csv('D:/AL/DataOlahanPython/DataBase_Python/DataBantu/TH_Sulawesi.csv')\n",
    "mitra = mitra.rename(columns = {'TH Arrival':'Diinput Cabang'})\n",
    "mitra.info()"
   ]
  },
  {
   "cell_type": "code",
   "execution_count": 12,
   "id": "afef50bb-0785-411f-bb26-60eebccc185f",
   "metadata": {},
   "outputs": [],
   "source": [
    "df = pd.merge(df, mitra, on = 'Diinput Cabang', how = 'left')"
   ]
  },
  {
   "cell_type": "code",
   "execution_count": 13,
   "id": "0d3eca90-6e87-4a84-aed2-b2ede0e964c9",
   "metadata": {},
   "outputs": [],
   "source": [
    "df = df.iloc[:,:15]"
   ]
  },
  {
   "cell_type": "code",
   "execution_count": 14,
   "id": "d6213bdd-e23e-454d-ad5c-b153d630173f",
   "metadata": {},
   "outputs": [
    {
     "name": "stdout",
     "output_type": "stream",
     "text": [
      "<class 'pandas.core.frame.DataFrame'>\n",
      "Int64Index: 123613 entries, 0 to 123612\n",
      "Data columns (total 15 columns):\n",
      " #   Column                   Non-Null Count   Dtype         \n",
      "---  ------                   --------------   -----         \n",
      " 0   No. Waybill              123613 non-null  object        \n",
      " 1   No. Bagging              74221 non-null   object        \n",
      " 2   No. Vehicle Tag          61472 non-null   object        \n",
      " 3   Kota Incoming            123613 non-null  object        \n",
      " 4   Tipe Scan                123613 non-null  object        \n",
      " 5   Lokasi Sebelumnya        14123 non-null   object        \n",
      " 6   Lokasi Selanjutnya       16705 non-null   object        \n",
      " 7   Scan Tujuan              123613 non-null  object        \n",
      " 8   Discan oleh              123613 non-null  object        \n",
      " 9   Diinput Cabang           123613 non-null  object        \n",
      " 10  Waktu Pencatatan         123613 non-null  datetime64[ns]\n",
      " 11  Provinsi Tujuan Waybill  123613 non-null  object        \n",
      " 12  Photo Link               10408 non-null   object        \n",
      " 13  Problem Reason           11415 non-null   object        \n",
      " 14  AREA                     59801 non-null   object        \n",
      "dtypes: datetime64[ns](1), object(14)\n",
      "memory usage: 15.1+ MB\n"
     ]
    }
   ],
   "source": [
    "df.info()"
   ]
  },
  {
   "cell_type": "code",
   "execution_count": 15,
   "id": "28ce76dd-34e7-4478-89af-0efba4f911e1",
   "metadata": {},
   "outputs": [],
   "source": [
    "ssrTrack = df.copy()"
   ]
  },
  {
   "cell_type": "code",
   "execution_count": 16,
   "id": "c235aaa6-6f76-4319-b2c6-231110f3cf31",
   "metadata": {},
   "outputs": [],
   "source": [
    "ssrTrack.to_csv('SSR_Tracking.csv', index = False)"
   ]
  },
  {
   "cell_type": "code",
   "execution_count": 17,
   "id": "440e5da7-fed7-4b18-bd85-5142b75d20da",
   "metadata": {},
   "outputs": [],
   "source": [
    "df = df[['No. Waybill','Tipe Scan','Diinput Cabang','Waktu Pencatatan','Problem Reason']]"
   ]
  },
  {
   "cell_type": "markdown",
   "id": "3dea5691-6dfe-4329-a7ad-60966dcbb490",
   "metadata": {
    "jp-MarkdownHeadingCollapsed": true
   },
   "source": [
    "### Olahan bg Return"
   ]
  },
  {
   "cell_type": "code",
   "execution_count": 18,
   "id": "216a4cf5-226c-49ae-81ea-852ecf09591c",
   "metadata": {},
   "outputs": [],
   "source": [
    "dfal = df.copy()\n",
    "dfal = dfal.drop_duplicates(subset = ['No. Waybill','Waktu Pencatatan'])"
   ]
  },
  {
   "cell_type": "code",
   "execution_count": 19,
   "id": "fe073da1-73c8-4fad-acca-1d934eaeef20",
   "metadata": {},
   "outputs": [],
   "source": [
    "dfPick = df.loc[df['Tipe Scan'] == 'Pick up scan']\n",
    "dfPick = dfPick.rename(columns = {'Diinput Cabang':'TH Pickup','Waktu Pencatatan':'Tgl Pickup'}).drop(columns = ['Tipe Scan','Problem Reason']).drop_duplicates()\n",
    "\n",
    "dfConf = df.loc[df['Tipe Scan'] == 'Confirm Return Bill']\n",
    "dfConf = dfConf.rename(columns = {'Waktu Pencatatan':'Tgl Konfirm'}).drop(columns = ['Tipe Scan','Diinput Cabang','Problem Reason']).drop_duplicates(subset = 'No. Waybill')\n",
    "\n",
    "dfRt = df.loc[df['Tipe Scan'] == 'Create Return Bill']\n",
    "dfRt = dfRt.rename(columns = {'Waktu Pencatatan':'Tgl regist'}).drop(columns = ['Tipe Scan','Diinput Cabang','Problem Reason']).drop_duplicates(subset = 'No. Waybill')\n",
    "\n",
    "dfdone = df.loc[df['Tipe Scan'].isin(['POD Entry','POD scan','Return POD Scan'])]\n",
    "dfdone = dfdone.rename(columns = {'Waktu Pencatatan':'Tgl Done'}).drop(columns = ['Tipe Scan','Diinput Cabang','Problem Reason']).drop_duplicates()\n",
    "\n",
    "\n",
    "dfSend = df.loc[df['Tipe Scan'] == 'Sending scan']\n",
    "dfSend = dfSend.loc[~dfSend['Diinput Cabang'].str[:2].isin(['MH','DC'])].sort_values('Waktu Pencatatan', ascending = True)\n",
    "dfSend = dfSend.rename(columns = {'Waktu Pencatatan':'Tgl Sending'}).drop(columns = ['Tipe Scan','Diinput Cabang','Problem Reason'])\n",
    "\n",
    "\n",
    "dfArv = df.loc[df['Tipe Scan'].isin(['Arrival scan','Unloading scan','Unpacking scan','Delivery scan'])]\n",
    "dfArv2 = dfArv.copy()\n",
    "dfArv3 = dfArv.copy()\n",
    "dfArv = dfArv.loc[~dfArv['Diinput Cabang'].str[:2].isin(['MH','DC'])].sort_values('Waktu Pencatatan', ascending = True).drop_duplicates(subset = 'No. Waybill')\n",
    "dfArv = dfArv.rename(columns = {'Waktu Pencatatan':'Tgl Arv'}).drop(columns = ['Tipe Scan','Diinput Cabang','Problem Reason'])\n",
    "\n",
    "dfPos = df.loc[df['Tipe Scan'] == 'Problem On Shipment scan']\n",
    "# dfPos.loc[dfPos['Problem Reason'].isin(['Paket hilang atau tidak ditemukan'])].to_csv('POS_Hilang.csv', index = False)\n",
    "dfPos = dfPos.loc[~dfPos['Diinput Cabang'].str[:2].isin(['MH','DC'])]\n",
    "dfalPos = dfPos.copy()\n",
    "dfPos = dfPos.drop_duplicates(subset = 'No. Waybill').rename(columns = {'Waktu Pencatatan':'Tgl LastPos','Problem Reason':'Last POS'}\n",
    "                                                            ).drop(columns = ['Tipe Scan','Diinput Cabang'])\n",
    "\n",
    "\n",
    "dfLast = df.loc[df['Tipe Scan'] != 'Confirm Return Bill']\n",
    "dfLast  = dfLast .rename(columns = {'Waktu Pencatatan':'Last Record',\n",
    "                                   'Tipe Scan':'Last Scan',\n",
    "                                   'Diinput Cabang':'Last Loc'}).drop(columns = ['Problem Reason']).drop_duplicates(subset = 'No. Waybill')"
   ]
  },
  {
   "cell_type": "markdown",
   "id": "527a7a06-527b-4663-ba23-9b4b81ae57ca",
   "metadata": {},
   "source": [
    "#### Olah LastArrv"
   ]
  },
  {
   "cell_type": "code",
   "execution_count": 20,
   "id": "7f46a822-de01-4690-bdd8-6d77189ebc84",
   "metadata": {},
   "outputs": [],
   "source": [
    "dfArv3 = dfArv3.loc[~dfArv3['Diinput Cabang'].str[:2].isin(['MH','DC'])]"
   ]
  },
  {
   "cell_type": "code",
   "execution_count": 21,
   "id": "d89bac9d-6d36-4f51-b456-85cbb5390921",
   "metadata": {},
   "outputs": [],
   "source": [
    "Arv = dfArv3[dfArv3['Tipe Scan'] != 'Delivery scan'].drop_duplicates(subset = 'No. Waybill')\n",
    "Arv = Arv['No. Waybill']\n",
    "delv = dfArv3[dfArv3['Tipe Scan'] == 'Delivery scan']"
   ]
  },
  {
   "cell_type": "code",
   "execution_count": 22,
   "id": "b303ff8d-2dca-430a-825e-3cbe6dca8ccd",
   "metadata": {},
   "outputs": [],
   "source": [
    "Arrv = pd.merge(dfal, Arv, how = 'inner')\n",
    "Arrv = Arrv.loc[~Arrv['Diinput Cabang'].str[:2].isin(['MH','DC'])]"
   ]
  },
  {
   "cell_type": "code",
   "execution_count": 23,
   "id": "8ad7f909-ed9a-4a9e-a607-48b728af4fd5",
   "metadata": {},
   "outputs": [],
   "source": [
    "Arrv['No.'] = Arrv.groupby('No. Waybill')['Waktu Pencatatan'].rank(ascending = False)\n",
    "Arrv['No.'] = Arrv['No.'].astype(int)\n",
    "Arrv['look'] = Arrv['No. Waybill'] + Arrv['No.'].astype(str)"
   ]
  },
  {
   "cell_type": "code",
   "execution_count": 24,
   "id": "2ee58310-7cad-4590-9cec-ecab86360257",
   "metadata": {},
   "outputs": [],
   "source": [
    "look = Arrv[['No. Waybill','Tipe Scan','Diinput Cabang','Waktu Pencatatan','No.']]\n",
    "look = look.add_suffix('_2')\n",
    "look['look'] = look['No. Waybill_2'] + (look['No._2']-1).astype(str)"
   ]
  },
  {
   "cell_type": "code",
   "execution_count": 25,
   "id": "75c89059-8a23-42df-ab6e-379f2a9d8254",
   "metadata": {},
   "outputs": [],
   "source": [
    "Arrv = Arrv.loc[Arrv['Tipe Scan'].isin(['Arrival scan','Unloading scan','Unpacking scan'])]"
   ]
  },
  {
   "cell_type": "code",
   "execution_count": 26,
   "id": "1aac6b1c-a1cd-402e-827e-33389ed9ef15",
   "metadata": {},
   "outputs": [],
   "source": [
    "Arrv = pd.merge(Arrv, look, on = 'look', how = 'left')"
   ]
  },
  {
   "cell_type": "code",
   "execution_count": 27,
   "id": "853afd58-731f-40d3-a9aa-9a046d905ffa",
   "metadata": {},
   "outputs": [],
   "source": [
    "Arrv = Arrv.loc[(~Arrv['Tipe Scan_2'].isin(['Arrival scan','Unloading scan','Unpacking scan'])) |\n",
    "                                 (Arrv['Diinput Cabang'] != Arrv['Diinput Cabang_2'])\n",
    "                                  ]"
   ]
  },
  {
   "cell_type": "code",
   "execution_count": 28,
   "id": "4ed27911-ebc1-491b-82dd-828ac33bc332",
   "metadata": {},
   "outputs": [],
   "source": [
    "Arrv = pd.merge(Arrv , dfRt, on = 'No. Waybill', how = 'left')"
   ]
  },
  {
   "cell_type": "code",
   "execution_count": 29,
   "id": "33582580-b2b7-41ae-b973-7842e095f425",
   "metadata": {},
   "outputs": [],
   "source": [
    "Arrv  = Arrv.loc[(Arrv['Tgl regist'].isna()) | (Arrv['Tgl regist'] > Arrv['Waktu Pencatatan'])]\n",
    "Arrv  = Arrv[['No. Waybill','Waktu Pencatatan','Diinput Cabang']]\n",
    "Arrv = Arrv.sort_values('Waktu Pencatatan', ascending = False).drop_duplicates(subset = 'No. Waybill')\n",
    "Arrv = Arrv.rename(columns = {'Diinput Cabang':'LastLoc Arv', 'Waktu Pencatatan':'Last Arv'})"
   ]
  },
  {
   "cell_type": "markdown",
   "id": "5e5e54e5-78e2-40f0-82d4-f9453a515d97",
   "metadata": {},
   "source": [
    "#### Olah FirstDelv"
   ]
  },
  {
   "cell_type": "code",
   "execution_count": 30,
   "id": "c2f7e9aa-a141-44d6-b943-f61dd8f5f6a5",
   "metadata": {},
   "outputs": [],
   "source": [
    "delv = pd.merge(delv, Arrv, on = 'No. Waybill', how = 'left')"
   ]
  },
  {
   "cell_type": "code",
   "execution_count": 31,
   "id": "14a43106-1ba6-4310-827b-4d100726f913",
   "metadata": {},
   "outputs": [],
   "source": [
    "delv = delv.loc[(delv['Last Arv'].isna()) | (delv['Last Arv'] <= delv['Waktu Pencatatan'])]\n",
    "\n",
    "deliv_all = delv.copy()\n",
    "deliv_all = deliv_all.rename(columns = {'Diinput Cabang':'TH Deliv'})\n",
    "\n",
    "delv = delv.sort_values('Waktu Pencatatan', ascending = True).drop_duplicates(subset = 'No. Waybill')\n",
    "delv = delv.drop(columns = ['Tipe Scan','Problem Reason','LastLoc Arv','Last Arv','Diinput Cabang'])\n",
    "delv = delv.rename(columns = {'Waktu Pencatatan':'First Delivery'})"
   ]
  },
  {
   "cell_type": "code",
   "execution_count": 32,
   "id": "9c60895e-4ad3-4afc-a5f4-232696002cc2",
   "metadata": {},
   "outputs": [],
   "source": [
    "dfC = pd.merge(dfPick, Arrv, on = 'No. Waybill', how = 'left')\n",
    "dfC = pd.merge(dfC, delv, on = 'No. Waybill', how = 'left')\n",
    "dfC = pd.merge(dfC, dfdone, on = 'No. Waybill', how = 'left')\n",
    "\n"
   ]
  },
  {
   "cell_type": "code",
   "execution_count": 33,
   "id": "106eeb3a-9efe-4afe-a64a-b2bf0d41a437",
   "metadata": {},
   "outputs": [
    {
     "name": "stdout",
     "output_type": "stream",
     "text": [
      "<class 'pandas.core.frame.DataFrame'>\n",
      "Int64Index: 4221 entries, 0 to 4220\n",
      "Data columns (total 7 columns):\n",
      " #   Column          Non-Null Count  Dtype         \n",
      "---  ------          --------------  -----         \n",
      " 0   No. Waybill     4221 non-null   object        \n",
      " 1   TH Pickup       4221 non-null   object        \n",
      " 2   Tgl Pickup      4221 non-null   datetime64[ns]\n",
      " 3   Last Arv        2792 non-null   datetime64[ns]\n",
      " 4   LastLoc Arv     2792 non-null   object        \n",
      " 5   First Delivery  2097 non-null   datetime64[ns]\n",
      " 6   Tgl Done        214 non-null    datetime64[ns]\n",
      "dtypes: datetime64[ns](4), object(3)\n",
      "memory usage: 263.8+ KB\n"
     ]
    }
   ],
   "source": [
    "dfC.info()"
   ]
  },
  {
   "cell_type": "code",
   "execution_count": 34,
   "id": "a3adf233-8f94-4d36-858b-2e1ceff8ff2b",
   "metadata": {},
   "outputs": [],
   "source": [
    "dfC.to_csv('Tracking_Rc.csv', index = False)"
   ]
  },
  {
   "cell_type": "code",
   "execution_count": null,
   "id": "319234b2-65e9-43b4-a518-540d5b2b39db",
   "metadata": {},
   "outputs": [],
   "source": []
  },
  {
   "cell_type": "markdown",
   "id": "c06cdc48-f221-4e80-b063-f282cccbcaa9",
   "metadata": {},
   "source": [
    "### Cek Eror"
   ]
  },
  {
   "cell_type": "code",
   "execution_count": 35,
   "id": "4b9b528a-b600-402c-8675-fe5121378f17",
   "metadata": {},
   "outputs": [
    {
     "name": "stdout",
     "output_type": "stream",
     "text": [
      "________________________\n"
     ]
    }
   ],
   "source": [
    "print(eror)"
   ]
  },
  {
   "cell_type": "code",
   "execution_count": null,
   "id": "1e9dcc77-20f3-438c-a0dc-9277060ebe42",
   "metadata": {},
   "outputs": [],
   "source": []
  }
 ],
 "metadata": {
  "kernelspec": {
   "display_name": "Python 3 (ipykernel)",
   "language": "python",
   "name": "python3"
  },
  "language_info": {
   "codemirror_mode": {
    "name": "ipython",
    "version": 3
   },
   "file_extension": ".py",
   "mimetype": "text/x-python",
   "name": "python",
   "nbconvert_exporter": "python",
   "pygments_lexer": "ipython3",
   "version": "3.9.18"
  }
 },
 "nbformat": 4,
 "nbformat_minor": 5
}

